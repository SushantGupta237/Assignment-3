{
 "cells": [
  {
   "cell_type": "markdown",
   "metadata": {},
   "source": [
    "##### Write a Python Program to implement your own myreduce() function which works exactly like Python's built-in function reduce() "
   ]
  },
  {
   "cell_type": "code",
   "execution_count": 12,
   "metadata": {},
   "outputs": [
    {
     "name": "stdout",
     "output_type": "stream",
     "text": [
      "\n",
      "Sum of numbers in the given list:\n",
      "--------------------------------\n",
      " 15\n"
     ]
    }
   ],
   "source": [
    "def my_reduce(fun,seq):\n",
    "    output = seq[0]     # storing 1st element inside opt variable\n",
    "    for i in seq[1:]:   # using for loop for iterations for the index position starting from 1st index onwards\n",
    "        output = fun(output, i)\n",
    "    return output\n",
    "\n",
    "#Creating a Test func for addition\n",
    "def test(a,b):\n",
    "    return a+b\n",
    "\n",
    "\"\"\"Testing my_reduce function\"\"\"\n",
    "\n",
    "print(\"\\nSum of numbers in the given list:\\n--------------------------------\\n\",my_reduce(test ,[1,2,3,4,5]))\n",
    "        "
   ]
  },
  {
   "cell_type": "markdown",
   "metadata": {},
   "source": [
    "##### Write a Python program to implement your own myfilter() function which works exactly like Python's built-in function filter()"
   ]
  },
  {
   "cell_type": "code",
   "execution_count": 17,
   "metadata": {},
   "outputs": [
    {
     "name": "stdout",
     "output_type": "stream",
     "text": [
      "\n",
      "Even Numbers in the given list:\n",
      "------------------------------\n",
      " [2, 4, 6, 8]\n"
     ]
    }
   ],
   "source": [
    "def my_filter(func, seq):\n",
    "    output = []           # Creating empty list\n",
    "    for i in seq:          # for loop for loop inside sequence\n",
    "        if func(i):       # using if condition \n",
    "               output.append(i)\n",
    "    return output\n",
    "\n",
    "#Creating a func :\n",
    "def evn(n):\n",
    "    return n%2==0\n",
    "    \n",
    "\"\"\"Testing my_filter function\"\"\"\n",
    "\n",
    "print(\"\\nEven Numbers in the given list:\\n------------------------------\\n\",my_filter(evn ,[1,2,3,4,5,6,7,8,9]))\n"
   ]
  },
  {
   "cell_type": "markdown",
   "metadata": {},
   "source": [
    "##### Implement List Comprehension to produce following List :\n",
    "['x', 'xx', 'xxx', 'xxxx', 'y', 'yy', 'yyy', 'yyyy', 'z', 'zz', 'zzz', 'zzzz']\n",
    "\n",
    "['x', 'y', 'z', 'xx', 'yy', 'zz', 'xxx', 'yyy', 'zzz', 'xxxx', 'yyyy', 'zzzz']\n",
    "\n",
    "[[2], [3], [4], [3], [4], [5], [4], [5], [6]]\n",
    "\n",
    "[[2, 3, 4, 5], [3, 4, 5, 6], [4, 5, 6, 7], [5, 6, 7, 8]]\n",
    "\n",
    "[(1, 1), (2, 1), (3, 1), (1, 2), (2, 2), (3, 2), (1, 3), (2, 3), (3, 3)]"
   ]
  },
  {
   "cell_type": "code",
   "execution_count": 18,
   "metadata": {},
   "outputs": [
    {
     "name": "stdout",
     "output_type": "stream",
     "text": [
      "['x', 'xx', 'xxx', 'xxxx', 'y', 'yy', 'yyy', 'yyyy', 'z', 'zz', 'zzz', 'zzzz']\n"
     ]
    }
   ],
   "source": [
    "# ['x', 'xx', 'xxx', 'xxxx', 'y', 'yy', 'yyy', 'yyyy', 'z', 'zz', 'zzz', 'zzzz']\n",
    "\n",
    "\"\"\"\"FOR THIS , WE NEED TO USE 2 FOR LOOPS , \n",
    "    FIRST for input sequence in which we need to do list,\n",
    "    2nd for making required pattern\"\"\"\n",
    "\n",
    "lst = [ i*j for i in [\"x\",\"y\",\"z\"] for j in range(1,5)]  # it should be start with 1 not 0 , as we need to print 1st char\n",
    "print(lst)"
   ]
  },
  {
   "cell_type": "code",
   "execution_count": 19,
   "metadata": {},
   "outputs": [
    {
     "name": "stdout",
     "output_type": "stream",
     "text": [
      "['x', 'y', 'z', 'xx', 'yy', 'zz', 'xxx', 'yyy', 'zzz', 'xxxx', 'yyyy', 'zzzz']\n"
     ]
    }
   ],
   "source": [
    "# ['x', 'y', 'z', 'xx', 'yy', 'zz', 'xxx', 'yyy', 'zzz', 'xxxx', 'yyyy', 'zzzz']\n",
    "\n",
    "\"\"\"\"FOR THIS , WE NEED TO USE 2 FOR LOOPS , \n",
    "    FIRST for input sequence in which we need to do list,\n",
    "    2nd for making required pattern\"\"\"\n",
    "\n",
    "lst = [ i*j for i in range(1,5) for j in [\"x\",\"y\",\"z\"]]   # it should be start with 1 not 0 , as we need to print 1st char\n",
    "print(lst)\n"
   ]
  },
  {
   "cell_type": "code",
   "execution_count": 20,
   "metadata": {},
   "outputs": [
    {
     "data": {
      "text/plain": [
       "[[2], [3], [4], [3], [4], [5], [4], [5], [6]]"
      ]
     },
     "execution_count": 20,
     "metadata": {},
     "output_type": "execute_result"
    }
   ],
   "source": [
    "#[[2], [3], [4], [3], [4], [5], [4], [5], [6]]\n",
    "\n",
    "result = [ [i+j] for i in [2,3,4] for j in range(0,3)]\n",
    "result"
   ]
  },
  {
   "cell_type": "code",
   "execution_count": 21,
   "metadata": {},
   "outputs": [
    {
     "data": {
      "text/plain": [
       "[[2, 3, 4, 5], [3, 4, 5, 6], [4, 5, 6, 7], [5, 6, 7, 8]]"
      ]
     },
     "execution_count": 21,
     "metadata": {},
     "output_type": "execute_result"
    }
   ],
   "source": [
    "# [[2, 3, 4, 5], [3, 4, 5, 6], [4, 5, 6, 7], [5, 6, 7, 8]]\n",
    "\n",
    "result = [ [i+j for i in [2,3,4,5]] for j in range(0,4)  ]\n",
    "result"
   ]
  },
  {
   "cell_type": "code",
   "execution_count": 22,
   "metadata": {},
   "outputs": [
    {
     "data": {
      "text/plain": [
       "[(1, 1), (2, 1), (3, 1), (1, 2), (2, 2), (3, 2), (1, 3), (2, 3), (3, 3)]"
      ]
     },
     "execution_count": 22,
     "metadata": {},
     "output_type": "execute_result"
    }
   ],
   "source": [
    "#[(1, 1), (2, 1), (3, 1), (1, 2), (2, 2), (3, 2), (1, 3), (2, 3), (3, 3)]\n",
    "\n",
    "result = [ (j,i) for i in [1,2,3] for j in [1,2,3]]\n",
    "result\n",
    "\n",
    "\"\"\"For simplicity its just like:\n",
    "\n",
    "for i in [1,2,3]:    # here i , will go from 1, then j 1,2,3    , i=2  , j =1,2,3      , i = 3 , j = 1,2,3\n",
    "    for j in [1,2,3]:\n",
    "        print((j,i))           # printing tuple(j,i)\n",
    "        \n",
    "        \"\"\""
   ]
  },
  {
   "cell_type": "code",
   "execution_count": null,
   "metadata": {},
   "outputs": [],
   "source": []
  }
 ],
 "metadata": {
  "kernelspec": {
   "display_name": "Python 3",
   "language": "python",
   "name": "python3"
  },
  "language_info": {
   "codemirror_mode": {
    "name": "ipython",
    "version": 3
   },
   "file_extension": ".py",
   "mimetype": "text/x-python",
   "name": "python",
   "nbconvert_exporter": "python",
   "pygments_lexer": "ipython3",
   "version": "3.8.3"
  }
 },
 "nbformat": 4,
 "nbformat_minor": 4
}
